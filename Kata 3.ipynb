{
 "cells": [
  {
   "cell_type": "markdown",
   "metadata": {},
   "source": [
    "## Advertencia de proximidad de asteroide"
   ]
  },
  {
   "cell_type": "code",
   "execution_count": 1,
   "metadata": {},
   "outputs": [
    {
     "name": "stdout",
     "output_type": "stream",
     "text": [
      "PELIGRO! Se aproxima un asteroide a gran velocidad!\n"
     ]
    }
   ],
   "source": [
    "velocidad = 49\n",
    "if velocidad > 25:\n",
    "    print (\"PELIGRO! Se aproxima un asteroide a gran velocidad!\")\n",
    "else:\n",
    "    print (\"No hay de que preocuparse\")"
   ]
  },
  {
   "cell_type": "markdown",
   "metadata": {},
   "source": [
    "Asteroides en la atmosfera"
   ]
  },
  {
   "cell_type": "code",
   "execution_count": 8,
   "metadata": {},
   "outputs": [
    {
     "name": "stdout",
     "output_type": "stream",
     "text": [
      "No hay nada que ver\n"
     ]
    }
   ],
   "source": [
    "vel = 19\n",
    "if vel > 20:\n",
    "    print (\"Vean el cielo! Se aproxima un asteroide!\")\n",
    "elif vel == 20:\n",
    "    print (\"Vean el cielo! Se aproxima un asteroide!\")\n",
    "else:\n",
    "    print (\"No hay nada que ver\")"
   ]
  },
  {
   "cell_type": "markdown",
   "metadata": {},
   "source": [
    "Gran Sistema de Advertencia"
   ]
  },
  {
   "cell_type": "code",
   "execution_count": 17,
   "metadata": {},
   "outputs": [
    {
     "name": "stdout",
     "output_type": "stream",
     "text": [
      "Vean el cielo! Se aproxima un asteroide!\n"
     ]
    }
   ],
   "source": [
    "dimension = 1001\n",
    "velocidad = 25\n",
    "if (dimension > 25 and dimension < 1000) or velocidad > 25:\n",
    "    print (\"PELIGRO! Se aproxima un asteroide muy peligroso!\")\n",
    "elif velocidad >= 20:\n",
    "    print (\"Vean el cielo! Se aproxima un asteroide!\")\n",
    "else:\n",
    "    print (\"No hay nada que ver\")\n"
   ]
  }
 ],
 "metadata": {
  "interpreter": {
   "hash": "ac59ebe37160ed0dfa835113d9b8498d9f09ceb179beaac4002f036b9467c963"
  },
  "kernelspec": {
   "display_name": "Python 3.9.5 64-bit",
   "language": "python",
   "name": "python3"
  },
  "language_info": {
   "codemirror_mode": {
    "name": "ipython",
    "version": 3
   },
   "file_extension": ".py",
   "mimetype": "text/x-python",
   "name": "python",
   "nbconvert_exporter": "python",
   "pygments_lexer": "ipython3",
   "version": "3.9.5"
  },
  "orig_nbformat": 4
 },
 "nbformat": 4,
 "nbformat_minor": 2
}
